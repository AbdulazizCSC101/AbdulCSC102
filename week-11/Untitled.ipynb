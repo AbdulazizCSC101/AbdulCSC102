{
 "cells": [
  {
   "cell_type": "code",
   "execution_count": 4,
   "metadata": {},
   "outputs": [
    {
     "name": "stdout",
     "output_type": "stream",
     "text": [
      "Enter your name: Abdul\n",
      "How much do you earn: 2000\n",
      "What project are you working on:  Brawhalla\n",
      "\n",
      "Name:  Abdul \n",
      "Salary:  2000\n",
      "Abdul  is working on  Brawhalla\n"
     ]
    }
   ],
   "source": [
    "class Employee(): \n",
    "    def __init__(self,name,salary, project): \n",
    "        self.name = name \n",
    "        self.salary = salary \n",
    "        self.project = project \n",
    "        \n",
    "    def show(self): \n",
    "        print(\"\\nName: \", self.name, '\\nSalary: ', self.salary) \n",
    "        \n",
    "    def work(self): \n",
    "        print(self.name, ' is working on ', self.project) \n",
    "        \n",
    "name = input(\"Enter your name: \") \n",
    "salary = int(input(\"How much do you earn: \")) \n",
    "project = input(\"What project are you working Aon:  \")\n",
    "\n",
    "emp = Employee(name,salary,project) \n",
    "\n",
    "\n",
    "emp.show() \n",
    "emp.work()\n",
    "        "
   ]
  },
  {
   "cell_type": "code",
   "execution_count": 6,
   "metadata": {},
   "outputs": [
    {
     "name": "stdout",
     "output_type": "stream",
     "text": [
      "Enteryour name: Abdul\n",
      "Enter your salary: 30000000\n",
      "Name:  Abdul Salary:N30000000\n",
      "\n",
      "Name :  Abdul \n",
      "Salary:  30000000\n"
     ]
    }
   ],
   "source": [
    "#Public Instances\n",
    "class Employee(): \n",
    "    def __init__(self,name,salary): \n",
    "        self.name = name \n",
    "        self.salary = salary \n",
    "        \n",
    "    def show(self):  \n",
    "        print(\"\\nName : \", self.name, '\\nSalary: ',self.salary) \n",
    "        \n",
    "name = input(\"Enter your name: \") \n",
    "salary = int(input(\"Enter your salary: \")) \n",
    "\n",
    "\n",
    "emp = Employee(name,salary)  \n",
    "\n",
    "print(\"Name: \", emp.name, 'Salary:' \"N{}\".format(emp.salary))\n",
    "\n",
    "emp.show()        \n",
    "        "
   ]
  },
  {
   "cell_type": "code",
   "execution_count": 10,
   "metadata": {},
   "outputs": [
    {
     "name": "stdout",
     "output_type": "stream",
     "text": [
      "Name:  Lemuel Otu\n",
      "Salary:  10000\n"
     ]
    }
   ],
   "source": [
    "#Private Instances\n",
    "class Employee(): \n",
    "    def __init__(self,name,salary):  \n",
    "        self.name = name \n",
    "        self.salary = salary \n",
    "        \n",
    "emp = Employee('Lemuel Otu',10000) \n",
    "\n",
    "print(\"Name: \", emp.name) \n",
    "\n",
    "print('Salary: ',emp.salary)"
   ]
  },
  {
   "cell_type": "code",
   "execution_count": 4,
   "metadata": {},
   "outputs": [
    {
     "name": "stdout",
     "output_type": "stream",
     "text": [
      "Name:  Clinton Okpara \n",
      "Salary:  250000\n"
     ]
    }
   ],
   "source": [
    "class Employee(): \n",
    "    def __init__(self,name,salary): \n",
    "        self.name = name \n",
    "        self.salary = salary \n",
    "        \n",
    "    def show(self): \n",
    "        print(\"Name: \",self.name, '\\nSalary: ',self.salary) \n",
    "        \n",
    "emp = Employee('Clinton Okpara',250000) \n",
    "\n",
    "emp.show()"
   ]
  },
  {
   "cell_type": "code",
   "execution_count": 13,
   "metadata": {},
   "outputs": [
    {
     "name": "stdout",
     "output_type": "stream",
     "text": [
      "Name : Mardiyyah Apampa\n",
      "Salary : N900000\n"
     ]
    }
   ],
   "source": [
    "class Employee(): \n",
    "    def __init__(self,name,salary): \n",
    "        self.name = name \n",
    "        self.salary = salary \n",
    "emp = Employee('Mardiyyah Apampa',900000) \n",
    "\n",
    "print(\"Name :\", emp.name)\n",
    "print(f\"Salary : N{emp.salary}\")        \n",
    "        "
   ]
  },
  {
   "cell_type": "code",
   "execution_count": 5,
   "metadata": {},
   "outputs": [
    {
     "name": "stdout",
     "output_type": "stream",
     "text": [
      "Enter your name: df\n",
      "Employee name: df \n",
      "Working on project :  Blockchain Development\n",
      "Project:  Blockchain Development\n"
     ]
    }
   ],
   "source": [
    "class company(): \n",
    "    def __init__(self): \n",
    "        self.project = \"Blockchain Development\" \n",
    "        \n",
    "class Employee(company): \n",
    "    def __init__(self,name): \n",
    "        self.name = name \n",
    "        \n",
    "        company.__init__(self) \n",
    "        \n",
    "    def show(self): \n",
    "        print(f\"Employee name: {self.name} \") \n",
    "        \n",
    "        print(\"Working on project : \" ,self.project) \n",
    "        \n",
    "tum = Employee(input(\"Enter your name: \")) \n",
    "tum.show() \n",
    "\n",
    "print(\"Project: \", tum.project)"
   ]
  },
  {
   "cell_type": "code",
   "execution_count": 3,
   "metadata": {},
   "outputs": [
    {
     "name": "stdout",
     "output_type": "stream",
     "text": [
      "Name:  Chike OKala \n",
      "Age : 34\n",
      "\n",
      "Name :  Chike OKala \n",
      "Age :  26\n"
     ]
    }
   ],
   "source": [
    "class Student(): \n",
    "    def __init__(self,name,age): \n",
    "        self.name = name \n",
    "        self.age= age \n",
    "        \n",
    "    def get_age(self): \n",
    "        return self.age  \n",
    "    \n",
    "    def set_age(self,age): \n",
    "        self.age =age \n",
    "        \n",
    "std = Student('Chike OKala',34) \n",
    "print(\"Name: \",std.name, \"\\nAge :\", std.get_age()) \n",
    "\n",
    "std.set_age(26)  \n",
    "\n",
    "print('\\nName : ', std.name, \"\\nAge : \", std.get_age()) \n",
    "\n",
    "    \n",
    "    "
   ]
  },
  {
   "cell_type": "code",
   "execution_count": null,
   "metadata": {},
   "outputs": [],
   "source": []
  }
 ],
 "metadata": {
  "kernelspec": {
   "display_name": "Python 3",
   "language": "python",
   "name": "python3"
  },
  "language_info": {
   "codemirror_mode": {
    "name": "ipython",
    "version": 3
   },
   "file_extension": ".py",
   "mimetype": "text/x-python",
   "name": "python",
   "nbconvert_exporter": "python",
   "pygments_lexer": "ipython3",
   "version": "3.7.4"
  }
 },
 "nbformat": 4,
 "nbformat_minor": 2
}
