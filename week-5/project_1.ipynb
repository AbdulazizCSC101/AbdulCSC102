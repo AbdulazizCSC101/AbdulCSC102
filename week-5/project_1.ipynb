{
 "cells": [
  {
   "cell_type": "code",
   "execution_count": 4,
   "metadata": {},
   "outputs": [
    {
     "name": "stdout",
     "output_type": "stream",
     "text": [
      " Name   |  age  | height | score\n",
      "Samantha | 17 | 5.5 | 80\n",
      "Jada | 16 | 6.0 | 85\n",
      "Jane | 17 | 5.4 | 70\n",
      "Claire | 18 | 5.9 | 60\n",
      "Elizabeth | 16 | 5.6 | 76\n",
      "Mary | 18 | 5.5 | 66\n",
      "Susan | 17 | 6.1 | 87\n",
      "Waje | 20 | 6.0 | 95\n",
      "Taibat | 19 | 5.7 | 50\n",
      "Lilian | 17 | 5.5 | 49\n"
     ]
    }
   ],
   "source": [
    "girls = [\"Samantha\",\"Jada\",\"Jane\",\"Claire\",\n",
    "         \"Elizabeth\",\"Mary\",\"Susan\",\"Waje\",\"Taibat\",\"Lilian\"] \n",
    "\n",
    "girls_age = [17,16,17,18,16,18,17,20,19,17]\n",
    "\n",
    "girls_height = [5.5,6.0,5.4,5.9,5.6,5.5,6.1,6.0,5.7,5.5] \n",
    "\n",
    "girls_score = [80,85,70,60,76,66,87,95,50,49]\n",
    "print(\" Name   |  age  | height | score\")\n",
    "for var1 in range(len(girls)): \n",
    "    print(f\"{girls[var1]} | {girls_age[var1]} | {girls_height[var1]} | {girls_score[var1]}\")\n",
    "    \n",
    " \n",
    "    "
   ]
  },
  {
   "cell_type": "code",
   "execution_count": 6,
   "metadata": {},
   "outputs": [
    {
     "name": "stdout",
     "output_type": "stream",
     "text": [
      "Name  |   age   |   height   | score  \n",
      "Charles | 19   | 5.7    | 74\n",
      "Jude | 16   | 5.9    | 87\n",
      "James | 18   | 5.8    | 75\n",
      "Kelvin | 17   | 6.1    | 68\n",
      "Biodun | 20   | 5.9    | 66\n",
      "Wale | 19   | 5.5    | 78\n",
      "Kunle | 16   | 6.1    | 87\n",
      "Matthew | 18   | 5.4    | 98\n",
      "Tom | 17   | 5.8    | 54\n",
      "Kayode | 19   | 5.7    | 60\n"
     ]
    }
   ],
   "source": [
    "boys = [\"Charles\",\"Jude\",\"James\",\"Kelvin\",\"Biodun\",\"Wale\",\"Kunle\",\"Matthew\",\"Tom\",\"Kayode\"] \n",
    "\n",
    "boys_age = [19,16,18,17,20,19,16,18,17,19] \n",
    "\n",
    "boys_height = [5.7,5.9,5.8,6.1,5.9,5.5,6.1,5.4,5.8,5.7] \n",
    "\n",
    "boys_score = [74,87,75,68,66,78,87,98,54,60]  \n",
    "print(\"Name  |   age   |   height   | score  \")\n",
    "\n",
    "for var2 in range(len(boys)):  \n",
    "    print(f\"{boys[var2]} | {boys_age[var2]}   | {boys_height[var2]}    | {boys_score[var2]}\")\n",
    "\n"
   ]
  },
  {
   "cell_type": "code",
   "execution_count": null,
   "metadata": {},
   "outputs": [],
   "source": []
  }
 ],
 "metadata": {
  "kernelspec": {
   "display_name": "Python 3",
   "language": "python",
   "name": "python3"
  },
  "language_info": {
   "codemirror_mode": {
    "name": "ipython",
    "version": 3
   },
   "file_extension": ".py",
   "mimetype": "text/x-python",
   "name": "python",
   "nbconvert_exporter": "python",
   "pygments_lexer": "ipython3",
   "version": "3.7.4"
  }
 },
 "nbformat": 4,
 "nbformat_minor": 5
}
