{
 "cells": [
  {
   "cell_type": "code",
   "execution_count": 1,
   "id": "19572130",
   "metadata": {},
   "outputs": [],
   "source": [
    " x = 10 \n",
    "def nigga(): \n",
    "    x = 20 \n",
    "    \n",
    "    function() \n",
    "    print(x)\n",
    "    "
   ]
  },
  {
   "cell_type": "code",
   "execution_count": null,
   "id": "0817b771",
   "metadata": {},
   "outputs": [],
   "source": [
    "x = 10 \n",
    "def nigga(): \n",
    "    x = 20 \n",
    "    \n",
    "    function() \n",
    "    print(x)\n",
    "    "
   ]
  },
  {
   "cell_type": "code",
   "execution_count": null,
   "id": "7b6a98e6",
   "metadata": {},
   "outputs": [],
   "source": []
  },
  {
   "cell_type": "code",
   "execution_count": null,
   "id": "453732e2",
   "metadata": {},
   "outputs": [],
   "source": []
  }
 ],
 "metadata": {
  "kernelspec": {
   "display_name": "Python 3 (ipykernel)",
   "language": "python",
   "name": "python3"
  },
  "language_info": {
   "codemirror_mode": {
    "name": "ipython",
    "version": 3
   },
   "file_extension": ".py",
   "mimetype": "text/x-python",
   "name": "python",
   "nbconvert_exporter": "python",
   "pygments_lexer": "ipython3",
   "version": "3.10.9"
  }
 },
 "nbformat": 4,
 "nbformat_minor": 5
}
