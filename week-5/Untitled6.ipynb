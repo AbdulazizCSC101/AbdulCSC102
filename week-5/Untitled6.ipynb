{
 "cells": [
  {
   "cell_type": "code",
   "execution_count": 7,
   "id": "e8e392a7",
   "metadata": {},
   "outputs": [
    {
     "name": "stdout",
     "output_type": "stream",
     "text": [
      "Welcome to Quvo Tech Industry \n",
      "As an employee,Enter your years of work experience: 20\n",
      "Age: 45\n",
      "The ATR(Annual tax revenue) for the staff is 550,000\n"
     ]
    }
   ],
   "source": [
    "print(\"Welcome to Quvo Tech Industry \")\n",
    "\n",
    "work_exp = float(input(\"As an employee,Enter your years of work experience: \"))  \n",
    "age = float(input(\"Age: \")) \n",
    " \n",
    "if work_exp > 25 and age <= 55: \n",
    "    print(\"The ATR(Annual tax revenue) for the staff is 5,600,000\") \n",
    "\n",
    "elif 20 < work_exp <= 25 and  45 <= age < 55: \n",
    "    print(\"The ATR(Annual tax revenue) for the staff is 4,480,000\") \n",
    "\n",
    "elif 10 < work_exp <= 20 and 35 <= age < 45: \n",
    "    print(\"The ATR (Annual tax revenue) for the staff is 1,500,000\") \n",
    "    \n",
    "else : \n",
    "    print(\"The ATR(Annual tax revenue) for the staff is 550,000\") "
   ]
  },
  {
   "cell_type": "code",
   "execution_count": null,
   "id": "d3dc40e5",
   "metadata": {},
   "outputs": [],
   "source": []
  },
  {
   "cell_type": "code",
   "execution_count": null,
   "id": "51b011b5",
   "metadata": {},
   "outputs": [],
   "source": []
  },
  {
   "cell_type": "code",
   "execution_count": null,
   "id": "5e761f8d",
   "metadata": {},
   "outputs": [],
   "source": []
  }
 ],
 "metadata": {
  "kernelspec": {
   "display_name": "Python 3 (ipykernel)",
   "language": "python",
   "name": "python3"
  },
  "language_info": {
   "codemirror_mode": {
    "name": "ipython",
    "version": 3
   },
   "file_extension": ".py",
   "mimetype": "text/x-python",
   "name": "python",
   "nbconvert_exporter": "python",
   "pygments_lexer": "ipython3",
   "version": "3.10.9"
  }
 },
 "nbformat": 4,
 "nbformat_minor": 5
}
