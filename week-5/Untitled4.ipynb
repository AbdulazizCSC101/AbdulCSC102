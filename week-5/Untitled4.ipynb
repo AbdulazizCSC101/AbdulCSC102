{
 "cells": [
  {
   "cell_type": "code",
   "execution_count": null,
   "id": "6022b56b",
   "metadata": {},
   "outputs": [],
   "source": [
    "print(\"Welcome to Quvo Tech Industry \")\n",
    "\n",
    "work_exp = input(\"As an employee,Enter your years of work experience: \")  \n",
    "age = input(\"Age: \") \n",
    " \n",
    "if work_exp > 25 && age <= 55: \n",
    "    print(\"The ATR(Annual tax revenue) for the staff is 5,600,000\") \n",
    "\n",
    "elif 20 < work_exp <= 25 &&  45 <= age < 55: \n",
    "    print(\"The ATR(Annaul tax revenue) for the staff is 4,480,000\") \n",
    "\n",
    "elif 10 < work_exp <= 20 && 35 <= age < 45: \n",
    "    print(\"The ATR (Annaul tax revenue) for the staff is 1,500,000\") \n",
    "    \n",
    "else : \n",
    "    print(\"The ATR(Annaul tax revenue) for the staff is 550,000\") "
   ]
  },
  {
   "cell_type": "code",
   "execution_count": null,
   "id": "f24f9862",
   "metadata": {},
   "outputs": [],
   "source": []
  },
  {
   "cell_type": "code",
   "execution_count": null,
   "id": "144fce1d",
   "metadata": {},
   "outputs": [],
   "source": []
  }
 ],
 "metadata": {
  "kernelspec": {
   "display_name": "Python 3 (ipykernel)",
   "language": "python",
   "name": "python3"
  },
  "language_info": {
   "codemirror_mode": {
    "name": "ipython",
    "version": 3
   },
   "file_extension": ".py",
   "mimetype": "text/x-python",
   "name": "python",
   "nbconvert_exporter": "python",
   "pygments_lexer": "ipython3",
   "version": "3.10.9"
  }
 },
 "nbformat": 4,
 "nbformat_minor": 5
}
