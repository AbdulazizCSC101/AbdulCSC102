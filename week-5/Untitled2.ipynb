{
 "cells": [
  {
   "cell_type": "code",
   "execution_count": 1,
   "id": "a3c34141",
   "metadata": {},
   "outputs": [
    {
     "name": "stdout",
     "output_type": "stream",
     "text": [
      "Welcome to COUP DE ESCRIVA 2023: FOOTBALL PICKS \n",
      "\n",
      "Madiba Chubby Obiora-Okafo\n",
      "Blue jays Christopher Uweh\n",
      "Circok Alexander\n",
      "TSG Walkers Ikechukwu\n",
      "\n",
      "\n",
      "Madiba Chubby Obiora-Okafo\n",
      "Blue-Jays Oladimeji Abaniwondea/Jeffrey Awagu\n",
      "Cirok Timileyn Pearse/Izuako Jeremy\n",
      "TSG Walkers Ayomide Ojituku\n"
     ]
    }
   ],
   "source": [
    "#COUP DE ESCRIVA 2023: FOOTBALL PICKS \n",
    "\n",
    "print(\"Welcome to COUP DE ESCRIVA 2023: FOOTBALL PICKS \\n\") \n",
    "\n",
    "captain = {'Madiba': 'Chubby Obiora-Okafo','Blue jays': 'Christopher Uweh',\n",
    "           'Circok': 'Alexander','TSG Walkers':'Ikechukwu'} \n",
    "\n",
    "goalkeepers = {'Madiba': 'Chubby Obiora-Okafo', \n",
    "              'Blue-Jays': 'Oladimeji Abaniwondea/Jeffrey Awagu', \n",
    "              'Cirok':'Timileyn Pearse/Izuako Jeremy','TSG Walkers':'Ayomide Ojituku' } \n",
    "\n",
    "for pick in captain: \n",
    "    print(pick,captain[pick]) \n",
    "    \n",
    "print(\"\\n\") \n",
    "\n",
    "for pick in goalkeepers: \n",
    "    print(pick, goalkeepers[pick])"
   ]
  },
  {
   "cell_type": "code",
   "execution_count": null,
   "id": "6c04b8b1",
   "metadata": {},
   "outputs": [],
   "source": []
  }
 ],
 "metadata": {
  "kernelspec": {
   "display_name": "Python 3 (ipykernel)",
   "language": "python",
   "name": "python3"
  },
  "language_info": {
   "codemirror_mode": {
    "name": "ipython",
    "version": 3
   },
   "file_extension": ".py",
   "mimetype": "text/x-python",
   "name": "python",
   "nbconvert_exporter": "python",
   "pygments_lexer": "ipython3",
   "version": "3.10.9"
  }
 },
 "nbformat": 4,
 "nbformat_minor": 5
}
