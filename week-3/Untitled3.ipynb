{
 "cells": [
  {
   "cell_type": "code",
   "execution_count": null,
   "id": "b84a35de",
   "metadata": {},
   "outputs": [],
   "source": [
    "tuple = (\"Ekiti\",750,'Oshogbo',250,\"Akure\",500) \n",
    "s_tuple = (\"Aboekuta\",300,\"Ogbomoso\") \n",
    "\n",
    "print(tuple) \n",
    "\n",
    "print(tuple[-1]) \n",
    "\n",
    "print(tuple[2:4]) \n",
    "\n",
    "print(tuple[3:]) \n",
    "\n",
    "print(s_tuple * 3) \n",
    "\n",
    "print(tuple + s_t)"
   ]
  }
 ],
 "metadata": {
  "kernelspec": {
   "display_name": "Python 3 (ipykernel)",
   "language": "python",
   "name": "python3"
  },
  "language_info": {
   "codemirror_mode": {
    "name": "ipython",
    "version": 3
   },
   "file_extension": ".py",
   "mimetype": "text/x-python",
   "name": "python",
   "nbconvert_exporter": "python",
   "pygments_lexer": "ipython3",
   "version": "3.10.9"
  }
 },
 "nbformat": 4,
 "nbformat_minor": 5
}
