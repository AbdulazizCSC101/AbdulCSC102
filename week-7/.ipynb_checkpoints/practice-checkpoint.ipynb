{
 "cells": [
  {
   "cell_type": "code",
   "execution_count": null,
   "id": "2df7520b",
   "metadata": {},
   "outputs": [],
   "source": [
    "def printme(str): \n",
    "    print(str); \n",
    "    return; \n",
    "\n",
    "printme(\"I'm first call to user defined function!\"); \n",
    "printme(\"Again second call to the same function\");\n",
    "\n"
   ]
  },
  {
   "cell_type": "code",
   "execution_count": null,
   "id": "77904b2a",
   "metadata": {},
   "outputs": [],
   "source": [
    "def changeme( myList): \n",
    "    myList.append([1,2,3,4]) \n",
    "    print (\"Values inside the function:\", myList) \n",
    "    return \n",
    "\n",
    "myList = [10,20,30] \n",
    "changeme( myList) \n",
    "print (\"Values outside the function: \", myList)"
   ]
  },
  {
   "cell_type": "code",
   "execution_count": null,
   "id": "656ce079",
   "metadata": {},
   "outputs": [],
   "source": [
    "def changeme(myList): \n",
    "    myList = [1,2,3,4]; \n",
    "    print(\"Values inside the function: \",myList) \n",
    "    return \n",
    "\n",
    "myList = [10,20,30,];\n",
    "changeme( myList); \n",
    "print(\"Values outside the function: \",myList)"
   ]
  },
  {
   "cell_type": "code",
   "execution_count": null,
   "id": "dff83bc8",
   "metadata": {},
   "outputs": [],
   "source": [
    "def printme (str): \n",
    "    print(str); \n",
    "    return; \n",
    "\n",
    "printme(str = \"My String\");"
   ]
  },
  {
   "cell_type": "code",
   "execution_count": 2,
   "id": "e7de8cc5",
   "metadata": {},
   "outputs": [
    {
     "name": "stdout",
     "output_type": "stream",
     "text": [
      "Name:  miki\n",
      "Age:  50\n"
     ]
    }
   ],
   "source": [
    "def printinfo(name, age): \n",
    "    print(\"Name: \", name); \n",
    "    print(\"Age: \", age); \n",
    "    return; \n",
    "printinfo( age = 50, name = \"miki\");"
   ]
  },
  {
   "cell_type": "code",
   "execution_count": 5,
   "id": "06f071e8",
   "metadata": {},
   "outputs": [
    {
     "name": "stdout",
     "output_type": "stream",
     "text": [
      "Name:  miki\n",
      "Age:  50\n",
      "Name:  miki\n",
      "Age:  35\n"
     ]
    }
   ],
   "source": [
    "def printinfo(name,age = 35): \n",
    "    print(\"Name: \", name); \n",
    "    print(\"Age: \",age);\n",
    "    return; \n",
    "printinfo(age = 50, name = \"miki\"); \n",
    "printinfo(name = \"miki\");"
   ]
  },
  {
   "cell_type": "code",
   "execution_count": 6,
   "id": "8e6a5c60",
   "metadata": {},
   "outputs": [
    {
     "name": "stdout",
     "output_type": "stream",
     "text": [
      "Output is: \n",
      "10\n",
      "Output is: \n",
      "70\n",
      "60\n"
     ]
    }
   ],
   "source": [
    "def printinfo(arg1, *vartuple): \n",
    "    \n",
    "    print(\"Output is: \") \n",
    "    print(arg1) \n",
    "    for var in vartuple: \n",
    "        print(var) \n",
    "        return; \n",
    "printinfo(10); \n",
    "printinfo(70,60,50);"
   ]
  },
  {
   "cell_type": "code",
   "execution_count": 7,
   "id": "126a0437",
   "metadata": {},
   "outputs": [
    {
     "name": "stdout",
     "output_type": "stream",
     "text": [
      "Inside the function local total:  30\n",
      "Outside the function global total:  50\n"
     ]
    }
   ],
   "source": [
    "total = 50; \n",
    "def sum(arg1, arg2): \n",
    "    total = arg1 + arg2; \n",
    "    print(\"Inside the function local total: \",total) \n",
    "    return total; \n",
    "\n",
    "sum(10,20);  \n",
    "print(\"Outside the function global total: \", total) "
   ]
  },
  {
   "cell_type": "code",
   "execution_count": 14,
   "id": "4f8007a0",
   "metadata": {},
   "outputs": [
    {
     "name": "stdout",
     "output_type": "stream",
     "text": [
      "Lawal Edward Tolu Tina\n",
      "Mary\n"
     ]
    }
   ],
   "source": [
    "def swap(x,y): \n",
    "    global a\n",
    "    a = \"Lawal\" \n",
    "    x,y = y,x \n",
    "    b = \"Chris\" \n",
    "    b = \"Edward\" \n",
    "    c = \"Lola\" \n",
    "    print(a,b,x,y) \n",
    "    a = \"Mary\" \n",
    "swap(\"Tina\", \"Tolu\") \n",
    "print(a)"
   ]
  },
  {
   "cell_type": "code",
   "execution_count": null,
   "id": "5eb72a71",
   "metadata": {},
   "outputs": [],
   "source": []
  }
 ],
 "metadata": {
  "kernelspec": {
   "display_name": "Python 3 (ipykernel)",
   "language": "python",
   "name": "python3"
  },
  "language_info": {
   "codemirror_mode": {
    "name": "ipython",
    "version": 3
   },
   "file_extension": ".py",
   "mimetype": "text/x-python",
   "name": "python",
   "nbconvert_exporter": "python",
   "pygments_lexer": "ipython3",
   "version": "3.9.12"
  }
 },
 "nbformat": 4,
 "nbformat_minor": 5
}
