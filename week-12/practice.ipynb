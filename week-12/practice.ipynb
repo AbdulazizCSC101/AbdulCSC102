{
 "cells": [
  {
   "cell_type": "code",
   "execution_count": 59,
   "metadata": {},
   "outputs": [
    {
     "name": "stdout",
     "output_type": "stream",
     "text": [
      "amount submitted:  2\n"
     ]
    }
   ],
   "source": [
    "from abc import ABC, abstractmethod \n",
    "\n",
    "class Product(ABC): \n",
    "    \n",
    "    def item_list(self,rate): \n",
    "        \n",
    "        print(\"amount submitted: \",rate)  \n",
    "    \n",
    "        \n",
    "  \n",
    " \n",
    "        \n",
    "    @abstractmethod \n",
    "    def product(self,rate): \n",
    "        pass   \n",
    "    \n",
    "class  Nigga(Product): \n",
    "    def product(self,rate): \n",
    "        pass\n",
    "         \n",
    "\n",
    "        \n",
    "r = Nigga() \n",
    "r.item_list(2) \n",
    "\n",
    "        \n",
    "    \n",
    "\n",
    "    \n",
    "        \n",
    "    \n",
    "    \n"
   ]
  },
  {
   "cell_type": "code",
   "execution_count": 46,
   "metadata": {},
   "outputs": [
    {
     "name": "stdout",
     "output_type": "stream",
     "text": [
      "Volume of a rectangle:  144\n",
      "Volume of a circle:  2089.9840000000004\n",
      "Volume of a square:  125\n",
      "Volume of a triangle:  10.0\n"
     ]
    },
    {
     "data": {
      "text/plain": [
       "144"
      ]
     },
     "execution_count": 46,
     "metadata": {},
     "output_type": "execute_result"
    }
   ],
   "source": [
    "from abc import ABC \n",
    "\n",
    "class geometric(ABC): \n",
    "    @abstractmethod\n",
    "    def volume(self): \n",
    "        pass    \n",
    "class Rect(geometric): \n",
    "    length = 4 \n",
    "    width = 6 \n",
    "    height = 6 \n",
    "    \n",
    "    def volume(self): \n",
    "        return self.length * self.width * self.height \n",
    "    \n",
    "class Sphere(geometric): \n",
    "    radius = 8 \n",
    "    def volume(self): \n",
    "        return 1.3 * 3.14 * self.radius * self.radius * self.radius \n",
    "    \n",
    "class Cube(geometric): \n",
    "    edge = 5 \n",
    "    def volume(self): \n",
    "        return self.edge * self.edge * self.edge \n",
    "    \n",
    "class Triangle_3D(geometric): \n",
    "    length = 5 \n",
    "    width = 4 \n",
    "    def volume(self): \n",
    "        return 0.5 * self.length * self.width  \n",
    "    \n",
    "rr = Rect() \n",
    "ss = Sphere() \n",
    "cc = Cube() \n",
    "tt = Triangle_3D() \n",
    "print(\"Volume of a rectangle: \", rr.volume()) \n",
    "print(\"Volume of a circle: \",ss.volume()) \n",
    "print(\"Volume of a square: \", cc.volume()) \n",
    "print(\"Volume of a triangle: \", tt.volume()) \n",
    "\n",
    "    \n",
    "\n"
   ]
  },
  {
   "cell_type": "code",
   "execution_count": 6,
   "metadata": {},
   "outputs": [
    {
     "name": "stdout",
     "output_type": "stream",
     "text": [
      "Paycheque of:  6500\n",
      "Purchase of the product:  6500\n",
      "True\n",
      "pay through card off 2600\n",
      "Purchase of the product:  2600\n",
      "True\n"
     ]
    }
   ],
   "source": [
    "from abc import ABC , abstractmethod \n",
    "\n",
    "class Bill(ABC): \n",
    "    def final_bill(self,pay): \n",
    "        print(\"Purchase of the product: \", pay) \n",
    "        \n",
    "    @abstractmethod \n",
    "    def Invoice(self,pay): \n",
    "        pass \n",
    "    \n",
    "class Paycheque(Bill): \n",
    "    def Invoice(self,pay): \n",
    "        print(\"Paycheque of: \", pay) \n",
    "        \n",
    "class Cardpayment(Bill): \n",
    "    def Invoice(self,pay): \n",
    "        print(\"pay through card off\", pay) \n",
    "        \n",
    "aa = Paycheque()\n",
    "aa.Invoice(6500) \n",
    "aa.final_bill(6500)   \n",
    "print(isinstance(aa,Paycheque)) \n",
    "\n",
    "aa = Cardpayment() \n",
    "aa.Invoice(2600) \n",
    "aa.final_bill(2600) \n",
    "print(isinstance(aa,Cardpayment))\n"
   ]
  },
  {
   "cell_type": "code",
   "execution_count": 65,
   "metadata": {},
   "outputs": [
    {
     "name": "stdout",
     "output_type": "stream",
     "text": [
      "What animal specie are you?Snake\n",
      "\n",
      " You are a Snake.You can crawl\n"
     ]
    }
   ],
   "source": [
    "from abc import ABC,abstractmethod \n",
    "\n",
    "class Animal(ABC):  \n",
    "    \n",
    "    @abstractmethod \n",
    "    def move(self): \n",
    "        pass\n",
    "    \n",
    "class Human(Animal): \n",
    "    def move(self,Animal): \n",
    "        print(f\"\\n You are a {animal}.You can walk and run\") \n",
    "\n",
    "class Snake(Animal): \n",
    "    def move(self,Animal): \n",
    "        print(f\"\\n You are a {animal}.You can crawl\") \n",
    "        \n",
    "class Dog(Animal): \n",
    "    \n",
    "    def move(self,Animal): \n",
    "        print(f\"\\n You are a {animal}. You can bark\")  \n",
    "        \n",
    "class Lion(Animal): \n",
    "    def move(self,Animal): \n",
    "        print(f\"\\n You are a {animal}. You can roar\") \n",
    "        \n",
    "animal = input(\"What animal specie are you?\") \n",
    "\n",
    "if animal ==\"Human\": \n",
    "    H = Human()\n",
    "    H.move(animal) \n",
    "    \n",
    "elif animal == \"Snake\": \n",
    "    S = Snake() \n",
    "    S.move(animal) \n",
    "    \n",
    "elif animal ==\"Dog\": \n",
    "    D = Dog() \n",
    "    D.move(animal) \n",
    "    \n",
    "elif animal ==\"Lion\": \n",
    "    L = Lion() \n",
    "    L.move(animal) \n",
    "    \n",
    "else: \n",
    "    print(\"Invalid animal specie\")"
   ]
  },
  {
   "cell_type": "code",
   "execution_count": 34,
   "metadata": {},
   "outputs": [
    {
     "name": "stdout",
     "output_type": "stream",
     "text": [
      "Abstract Base Class\n",
      "subclass\n"
     ]
    }
   ],
   "source": [
    "from abc import ABC, abstractmethod\n",
    "\n",
    "class R(ABC):\n",
    "    @abstractmethod \n",
    "    def rk(self): \n",
    "        print(\"Abstract Base Class\") \n",
    "    \n",
    "class K(R):\n",
    "    def rk(self):\n",
    "        super().rk() \n",
    "        print(\"subclass\") \n",
    "        \n",
    "r = K() \n",
    "r.rk()\n",
    "        "
   ]
  },
  {
   "cell_type": "code",
   "execution_count": 60,
   "metadata": {},
   "outputs": [
    {
     "name": "stdout",
     "output_type": "stream",
     "text": [
      "Total Naira value here:  5000\n",
      "Total Naira Value here:  2000\n"
     ]
    }
   ],
   "source": [
    "from abc import ABC, abstractmethod \n",
    "\n",
    "class Bank(ABC): \n",
    "    def branch(self,naira): \n",
    "        print(\"Fees Submitted : \",naira) \n",
    "        \n",
    "    @abstractmethod \n",
    "    def bank(self,naira): \n",
    "        pass \n",
    "    \n",
    "    \n",
    "class private(Bank): \n",
    "    def bank(self,naira): \n",
    "        print(\"Total Naira Value here: \",naira) \n",
    "        \n",
    "class public(Bank): \n",
    "    def bank(self,naira): \n",
    "        print(\"Total Naira value here: \",naira) \n",
    "        \n",
    "a = public() \n",
    "b = private() \n",
    "        \n",
    "a.bank(5000) \n",
    "b.bank(2000) \n"
   ]
  },
  {
   "cell_type": "code",
   "execution_count": null,
   "metadata": {},
   "outputs": [],
   "source": []
  }
 ],
 "metadata": {
  "kernelspec": {
   "display_name": "Python 3",
   "language": "python",
   "name": "python3"
  },
  "language_info": {
   "codemirror_mode": {
    "name": "ipython",
    "version": 3
   },
   "file_extension": ".py",
   "mimetype": "text/x-python",
   "name": "python",
   "nbconvert_exporter": "python",
   "pygments_lexer": "ipython3",
   "version": "3.7.4"
  }
 },
 "nbformat": 4,
 "nbformat_minor": 2
}
