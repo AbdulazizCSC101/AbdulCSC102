{
 "cells": [
  {
   "cell_type": "code",
   "execution_count": 12,
   "metadata": {},
   "outputs": [
    {
     "name": "stdout",
     "output_type": "stream",
     "text": [
      "Enter your name: Eyo Ishan\n",
      "Eyo Ishan is marked present for work\n",
      "Eyo Ishan task is Transportation \n"
     ]
    }
   ],
   "source": [
    "import random \n",
    "class Employee(): \n",
    "    def __init__(self,name): \n",
    "            self.name = name\n",
    "    \n",
    "    def check_employee(self):\n",
    "        name = {\"Mary Evans\",\"Eyo Ishan\",\"Durojaiye Dare\",\"Adams Ali\",\"Andrew Ugwu\",\"Stella Mankinde\",\"Jane Akibo\",\"Ago James\",\"Michell Taiwo\",\"Abraham Jones\",\"Nicole Anide\",\"Kosi korso\",\"Adele Martins\",\"Emmanuel Ojo\",\"Ajayi Fatima\"} \n",
    "        if self.name in name : \n",
    "                return True \n",
    "        else: \n",
    "            return False\n",
    "            \n",
    "    def take_attendance(self): \n",
    "        print(f\"{self.name} is marked present for work\") \n",
    "        \n",
    "    def assign_task(self):  \n",
    "        task = [\"Loading\",\"Transportation\",\"Reviewing Orders\",\"Customer Service\",\"Delivery items\"]\n",
    "        index = random.randint(0, len(task)- 1) \n",
    "        niggs = task[index]\n",
    "        print(f\"{self.name} task is {niggs} \") \n",
    "        \n",
    "    def refuse_access(self): \n",
    "        print(\"Access Denied. You are not an employee here\")\n",
    "\n",
    "        \n",
    "name = input(\"Enter your name: \" ) \n",
    "yee = Employee(name) \n",
    " \n",
    "\n",
    "if yee.check_employee(): \n",
    "    yee.take_attendance() \n",
    "    yee.assign_task() \n",
    "    \n",
    "else: \n",
    "    yee.refuse_access()\n",
    "\n",
    "        \n",
    "        \n",
    "        \n",
    "        \n",
    "       \n",
    "        \n",
    "     \n",
    "         \n",
    "        \n",
    "        "
   ]
  },
  {
   "cell_type": "code",
   "execution_count": 9,
   "metadata": {},
   "outputs": [
    {
     "ename": "SyntaxError",
     "evalue": "invalid syntax (<ipython-input-9-9a5b9fa0d821>, line 10)",
     "output_type": "error",
     "traceback": [
      "\u001b[1;36m  File \u001b[1;32m\"<ipython-input-9-9a5b9fa0d821>\"\u001b[1;36m, line \u001b[1;32m10\u001b[0m\n\u001b[1;33m    else self.location == \"PAU\" and self.weight < 10:\u001b[0m\n\u001b[1;37m            ^\u001b[0m\n\u001b[1;31mSyntaxError\u001b[0m\u001b[1;31m:\u001b[0m invalid syntax\n"
     ]
    }
   ],
   "source": [
    "class Dip(): \n",
    "    def __init__(self,location,weight): \n",
    "        self.location = location \n",
    "        self.weight = weight \n",
    "        \n",
    "    def June(self): \n",
    "        if self.location == \"PAU\" and self.weight >= 10:\n",
    "            print(\"Pay up N2000\") \n",
    "            \n",
    "        else self.location == \"PAU\" and self.weight < 10: \n",
    "            print(\"Pay up N1500\") \n",
    "            \n",
    "    def October(self): \n",
    "        if self.location == \"Epe\" and self.weight >= 10: \n",
    "            print(\"Pay up N5000\") \n",
    "            \n",
    "        else self.location == \"Epe\" and self.weight < 10: \n",
    "            print(\"Pay up N4000\") \n",
    "            \n",
    "print(\"WELCOME TO MY EXPRESS\")\n",
    "location = input(\"Enter Delivery Location: \")\n",
    "weight = input(\"Enter weight: \")  \n",
    "if self.location in location: \n",
    "    return True \n",
    "else: \n",
    "    return False\n",
    "c = Dip() \n",
    "c.June() \n",
    "c.October()\n",
    "\n",
    "\n",
    "            "
   ]
  },
  {
   "cell_type": "code",
   "execution_count": null,
   "metadata": {},
   "outputs": [],
   "source": []
  }
 ],
 "metadata": {
  "kernelspec": {
   "display_name": "Python 3",
   "language": "python",
   "name": "python3"
  },
  "language_info": {
   "codemirror_mode": {
    "name": "ipython",
    "version": 3
   },
   "file_extension": ".py",
   "mimetype": "text/x-python",
   "name": "python",
   "nbconvert_exporter": "python",
   "pygments_lexer": "ipython3",
   "version": "3.7.4"
  }
 },
 "nbformat": 4,
 "nbformat_minor": 2
}
