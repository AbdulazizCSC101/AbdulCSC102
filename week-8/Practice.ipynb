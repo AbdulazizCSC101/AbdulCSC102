{
 "cells": [
  {
   "cell_type": "code",
   "execution_count": 1,
   "metadata": {},
   "outputs": [
    {
     "name": "stdout",
     "output_type": "stream",
     "text": [
      "mammal\n",
      "I'm a  mammal\n",
      "I'm a dog\n"
     ]
    }
   ],
   "source": [
    "class Dog():\n",
    "    attr1 = \"mammal\" \n",
    "    attr2 = \"dog\"\n",
    "    \n",
    "    def fun(self): \n",
    "        print(\"I'm a \",self.attr1)  \n",
    "        print(\"I'm a\",self.attr2) \n",
    "\n",
    "Rodger = Dog() \n",
    "\n",
    "print(Rodger.attr1) \n",
    "Rodger.fun()\n",
    "    "
   ]
  },
  {
   "cell_type": "code",
   "execution_count": null,
   "metadata": {},
   "outputs": [],
   "source": [
    "class check__: \n",
    "    def __init__(self): \n",
    "        print(\"Address of self = \", id(self)) \n",
    "        \n",
    "obj = check__() \n",
    "print = (\"Address of class object = \", id(obj))"
   ]
  },
  {
   "cell_type": "code",
   "execution_count": 3,
   "metadata": {},
   "outputs": [
    {
     "name": "stdout",
     "output_type": "stream",
     "text": [
      "Model is Toyota Corolla\n",
      "color is blue\n",
      "Model is Kia Cerato\n",
      "color is green\n"
     ]
    }
   ],
   "source": [
    "class car(): \n",
    "    def __init__(self,model,color): \n",
    "        self.model = model \n",
    "        self.color = color \n",
    "        \n",
    "    def show(self): \n",
    "        print(\"Model is\", self.model) \n",
    "        print(\"color is\", self.color) \n",
    "        \n",
    "toyota = car(\"Toyota Corolla\",\"blue\") \n",
    "kia = car(\"Kia Cerato\", \"green\" ) \n",
    "\n",
    "toyota.show() \n",
    "kia.show()\n",
    "        "
   ]
  },
  {
   "cell_type": "code",
   "execution_count": 2,
   "metadata": {},
   "outputs": [
    {
     "name": "stdout",
     "output_type": "stream",
     "text": [
      "This is a constructor\n",
      "Worked fine\n"
     ]
    }
   ],
   "source": [
    "class check(): \n",
    "    def __init__(self): \n",
    "        print(\"This is a constructor\")  \n",
    "        \n",
    "object = check() \n",
    "print(\"Worked fine\")\n"
   ]
  },
  {
   "cell_type": "code",
   "execution_count": 5,
   "metadata": {},
   "outputs": [
    {
     "name": "stdout",
     "output_type": "stream",
     "text": [
      "we have used another parameter name in place of self\n"
     ]
    }
   ],
   "source": [
    "class th(): \n",
    "    def __init__(self): \n",
    "        print(\"we have used another \"\n",
    "             \"parameter name in place of self\") \n",
    "object = th()"
   ]
  },
  {
   "cell_type": "code",
   "execution_count": 6,
   "metadata": {},
   "outputs": [
    {
     "name": "stdout",
     "output_type": "stream",
     "text": [
      "Hello, my name is Hans Madugu\n"
     ]
    }
   ],
   "source": [
    "class person(): \n",
    "    def __init__(self,name): \n",
    "        self.name = name \n",
    "        \n",
    "    def say_hi(self): \n",
    "        print('Hello, my name is', self.name) \n",
    "        \n",
    "p = person(\"Hans Madugu\") \n",
    "p.say_hi()"
   ]
  },
  {
   "cell_type": "code",
   "execution_count": null,
   "metadata": {},
   "outputs": [],
   "source": [
    "class person(): \n",
    "    def __init__(self,name): \n",
    "        self.name = name \n",
    "        \n",
    "    def say_hi(self): \n",
    "        print(\"Hello, my name is\", self.name)  \n",
    "        \n",
    "p1 = person('Enoabasi') \n",
    "p2 = person('Leela') \n",
    "p3 = person('divine') \n",
    "\n",
    "p1.say_hi() \n",
    "p2.say_hi() \n",
    "p3.say_hi()"
   ]
  },
  {
   "cell_type": "code",
   "execution_count": 3,
   "metadata": {},
   "outputs": [
    {
     "name": "stdout",
     "output_type": "stream",
     "text": [
      "CSC 102 - introduction to Problem solving\n"
     ]
    }
   ],
   "source": [
    "class Program(): \n",
    "    def __init__(self): \n",
    "        self.course = \"CSC 102 - introduction to Problem solving\" \n",
    "        \n",
    "        \n",
    "    def print_cose(self): \n",
    "        print(self.course) \n",
    "\n",
    "obj = Program() \n",
    "\n",
    "obj.print_cose()"
   ]
  },
  {
   "cell_type": "code",
   "execution_count": 4,
   "metadata": {},
   "outputs": [
    {
     "name": "stdout",
     "output_type": "stream",
     "text": [
      "Enter first number:  36\n",
      "Enter second number 45\n",
      "First number = 36\n",
      "Second number = 45\n",
      "Addition of two numbers = 81\n"
     ]
    }
   ],
   "source": [
    "class Addition(): \n",
    "    first = 0 \n",
    "    second = 0 \n",
    "    answer = 0 \n",
    "    \n",
    "    def __init__(self, f,s): \n",
    "        self.first = f \n",
    "        self.second = s \n",
    "        \n",
    "    def display(self):  \n",
    "        print(\"First number = \"  + str(self.first)) \n",
    "        print(\"Second number = \" + str(self.second)) \n",
    "        print(\"Addition of two numbers = \" + str(self.answer)) \n",
    "        \n",
    "    def calculate(self): \n",
    "        self.answer = self.first + self.second \n",
    "        \n",
    "num1 = int(input(\"Enter first number:  \")) \n",
    "num2 = int(input(\"Enter second number \")) \n",
    "obj = Addition(num1, num2) \n",
    "\n",
    "obj.calculate() \n",
    "\n",
    "obj.display()"
   ]
  },
  {
   "cell_type": "code",
   "execution_count": 8,
   "metadata": {},
   "outputs": [
    {
     "name": "stdout",
     "output_type": "stream",
     "text": [
      "Oscar is a mammal\n",
      "Peaches is also a mammal\n",
      "My name is Oscar\n",
      "My name is Peaches\n"
     ]
    }
   ],
   "source": [
    "class Dogs(): \n",
    "    \n",
    "    attr1 = \"mammal\"  \n",
    "    \n",
    "    def __init__(self,name): \n",
    "        self.name = name \n",
    "        \n",
    "dog1 = Dogs(\"Oscar\") \n",
    "dog2 = Dogs(\"Peaches\") \n",
    "\n",
    "print(\"Oscar is a {}\".format(dog1.__class__.attr1)) \n",
    "print(\"Peaches is also a {}\".format(dog2.__class__.attr1)) \n",
    "\n",
    "print(\"My name is {}\".format(dog1.name)) \n",
    "print(\"My name is {}\".format(dog2.name))\n",
    "    \n",
    "    "
   ]
  },
  {
   "cell_type": "code",
   "execution_count": null,
   "metadata": {},
   "outputs": [],
   "source": []
  }
 ],
 "metadata": {
  "kernelspec": {
   "display_name": "Python 3",
   "language": "python",
   "name": "python3"
  },
  "language_info": {
   "codemirror_mode": {
    "name": "ipython",
    "version": 3
   },
   "file_extension": ".py",
   "mimetype": "text/x-python",
   "name": "python",
   "nbconvert_exporter": "python",
   "pygments_lexer": "ipython3",
   "version": "3.7.4"
  }
 },
 "nbformat": 4,
 "nbformat_minor": 2
}
