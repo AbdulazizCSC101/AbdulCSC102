{
 "cells": [
  {
   "cell_type": "code",
   "execution_count": 2,
   "metadata": {},
   "outputs": [
    {
     "name": "stdout",
     "output_type": "stream",
     "text": [
      "mammal\n",
      "I'm a  mammal\n",
      "I'm a dog\n"
     ]
    }
   ],
   "source": [
    "class Dog():\n",
    "    attr1 = \"mammal\" \n",
    "    attr2 = \"dog\"\n",
    "    \n",
    "    def fun(self): \n",
    "        print(\"I'm a \",self.attr1)  \n",
    "        print(\"I'm a\",self.attr2) \n",
    "\n",
    "Rodger = Dog() \n",
    "\n",
    "print(Rodger.attr1) \n",
    "Rodger.fun()"
   ]
  },
  {
   "cell_type": "code",
   "execution_count": null,
   "metadata": {},
   "outputs": [],
   "source": [
    "class check_: \n",
    "    def __init__(self): \n",
    "        print(\"Address of self = \", id(self)) \n",
    "        \n",
    "obj = check_() \n",
    "print = (\"Address of class object = \", id(obj))"
   ]
  },
  {
   "cell_type": "code",
   "execution_count": 1,
   "metadata": {},
   "outputs": [
    {
     "name": "stdout",
     "output_type": "stream",
     "text": [
      "Model is  Toyota Corolla\n",
      "Color is  blue\n",
      "Model is  Kia Cerato\n",
      "Color is  green\n"
     ]
    }
   ],
   "source": [
    "class car(): \n",
    "    \n",
    "    def __init__(self,model,color):\n",
    "        self.model = model \n",
    "        self.color = color \n",
    "        \n",
    "    def show(self): \n",
    "        print(\"Model is \",self.model)\n",
    "        print(\"Color is \", self.color) \n",
    "\n",
    "toyota = car(\"Toyota Corolla\", \"blue\") \n",
    "kia = car(\"Kia Cerato\",\"green\") \n",
    "\n",
    "toyota.show() \n",
    "kia.show()\n",
    "\n",
    "        \n",
    "        "
   ]
  },
  {
   "cell_type": "code",
   "execution_count": null,
   "metadata": {},
   "outputs": [],
   "source": []
  }
 ],
 "metadata": {
  "kernelspec": {
   "display_name": "Python 3",
   "language": "python",
   "name": "python3"
  },
  "language_info": {
   "codemirror_mode": {
    "name": "ipython",
    "version": 3
   },
   "file_extension": ".py",
   "mimetype": "text/x-python",
   "name": "python",
   "nbconvert_exporter": "python",
   "pygments_lexer": "ipython3",
   "version": "3.7.4"
  }
 },
 "nbformat": 4,
 "nbformat_minor": 2
}
