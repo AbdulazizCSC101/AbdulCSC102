{
 "cells": [
  {
   "cell_type": "code",
   "execution_count": 4,
   "metadata": {},
   "outputs": [
    {
     "name": "stdout",
     "output_type": "stream",
     "text": [
      "28981.8518575\n"
     ]
    }
   ],
   "source": [
    "#Input values p,r and t\n",
    "p = 25000 \n",
    "r = 3 \n",
    "t = 5  \n",
    "# Compute A \n",
    "a = p * (1 + r/100)** t \n",
    "# Print simple interest \n",
    "print(a)\n",
    "\n",
    "\n",
    "\n"
   ]
  },
  {
   "cell_type": "code",
   "execution_count": 6,
   "metadata": {},
   "outputs": [
    {
     "name": "stdout",
     "output_type": "stream",
     "text": [
      "20230000.0\n"
     ]
    }
   ],
   "source": [
    "#Input the values p,r,n,t \n",
    "p = 56000 \n",
    "r = 15 \n",
    "n = 2 \n",
    "\n",
    "#Compute A  \n",
    "a = p * (1 + r/n)**n*t \n",
    "\n",
    "# Print Compound interest \n",
    "\n",
    "print(a)"
   ]
  },
  {
   "cell_type": "code",
   "execution_count": 32,
   "metadata": {},
   "outputs": [
    {
     "name": "stdout",
     "output_type": "stream",
     "text": [
      "5340496.171875\n"
     ]
    }
   ],
   "source": [
    "#Input value pmt,r,t,n\n",
    "pmt = 12000 \n",
    "r = 15 \n",
    "t = 7 \n",
    "n = 10\n",
    "#compute a\n",
    "a = pmt *((1 + r / n)**n*t - 1) / r/n  \n",
    "# print annuity plan\n",
    "print(a) "
   ]
  },
  {
   "cell_type": "code",
   "execution_count": null,
   "metadata": {},
   "outputs": [],
   "source": []
  }
 ],
 "metadata": {
  "kernelspec": {
   "display_name": "Python 3",
   "language": "python",
   "name": "python3"
  },
  "language_info": {
   "codemirror_mode": {
    "name": "ipython",
    "version": 3
   },
   "file_extension": ".py",
   "mimetype": "text/x-python",
   "name": "python",
   "nbconvert_exporter": "python",
   "pygments_lexer": "ipython3",
   "version": "3.7.4"
  }
 },
 "nbformat": 4,
 "nbformat_minor": 5
}
