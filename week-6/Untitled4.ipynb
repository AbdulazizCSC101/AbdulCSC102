{
 "cells": [
  {
   "cell_type": "code",
   "execution_count": 1,
   "metadata": {},
   "outputs": [
    {
     "name": "stdout",
     "output_type": "stream",
     "text": [
      "[101 201 301 401 501]\n",
      "<class 'numpy.ndarray'>\n"
     ]
    }
   ],
   "source": [
    "import numpy as np \n",
    "\n",
    "arr = np.array([101,201,301,401,501]) \n",
    "\n",
    "print(arr) \n",
    "\n",
    "print(type(arr))"
   ]
  },
  {
   "cell_type": "code",
   "execution_count": 3,
   "metadata": {},
   "outputs": [
    {
     "name": "stdout",
     "output_type": "stream",
     "text": [
      "['Angel' 'Shemi' 'Marvel' 'Linda']\n",
      "[41 32 21 19]\n",
      "{'CSC102': 89, 'MTH 102': 77, 'CHM 102': 69, 'GST 102': 99}\n"
     ]
    }
   ],
   "source": [
    "import numpy as np \n",
    "\n",
    "nameList = ['Angel',\"Shemi\",\"Marvel\",\"Linda\"] \n",
    "ageTuple = (41,32,21,19)\n",
    "gradeDict = {\"CSC102\": 89,\"MTH 102\": 77,\"CHM 102\":69, \"GST 102\":99 } \n",
    "\n",
    "arr_nameList = np.array(nameList) \n",
    "arr_ageTuple = np.array(ageTuple) \n",
    "arr_gradeDict = np.array(gradeDict) \n",
    "\n",
    "print(arr_nameList) \n",
    "print(arr_ageTuple) \n",
    "print(arr_gradeDict) "
   ]
  },
  {
   "cell_type": "code",
   "execution_count": 8,
   "metadata": {},
   "outputs": [
    {
     "name": "stdout",
     "output_type": "stream",
     "text": [
      "How many students are in the CSC 102 class? 5\n",
      "There are 5 students in CSC 102 class\n"
     ]
    }
   ],
   "source": [
    "import numpy as np \n",
    "\n",
    "classNum = int(input(\"How many students are in the CSC 102 class? \")) \n",
    "class_arr = np.array(classNum)\n",
    "\n",
    "if class_arr ==1: \n",
    "    print(\"There is only \", class_arr , \"student in CSC 102 class \")\n",
    "    \n",
    "else: \n",
    "    print(\"There are\", class_arr,\"students in CSC 102 class\")"
   ]
  },
  {
   "cell_type": "code",
   "execution_count": null,
   "metadata": {},
   "outputs": [],
   "source": []
  }
 ],
 "metadata": {
  "kernelspec": {
   "display_name": "Python 3",
   "language": "python",
   "name": "python3"
  },
  "language_info": {
   "codemirror_mode": {
    "name": "ipython",
    "version": 3
   },
   "file_extension": ".py",
   "mimetype": "text/x-python",
   "name": "python",
   "nbconvert_exporter": "python",
   "pygments_lexer": "ipython3",
   "version": "3.7.4"
  }
 },
 "nbformat": 4,
 "nbformat_minor": 2
}
