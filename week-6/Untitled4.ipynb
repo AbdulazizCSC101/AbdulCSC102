{
 "cells": [
  {
   "cell_type": "code",
   "execution_count": 1,
   "metadata": {},
   "outputs": [
    {
     "name": "stdout",
     "output_type": "stream",
     "text": [
      "[101 201 301 401 501]\n",
      "<class 'numpy.ndarray'>\n"
     ]
    }
   ],
   "source": [
    "import numpy as np \n",
    "\n",
    "arr = np.array([101,201,301,401,501]) \n",
    "\n",
    "print(arr) \n",
    "\n",
    "print(type(arr))"
   ]
  },
  {
   "cell_type": "code",
   "execution_count": 3,
   "metadata": {},
   "outputs": [
    {
     "name": "stdout",
     "output_type": "stream",
     "text": [
      "['Angel' 'Shemi' 'Marvel' 'Linda']\n",
      "[41 32 21 19]\n",
      "{'CSC102': 89, 'MTH 102': 77, 'CHM 102': 69, 'GST 102': 99}\n"
     ]
    }
   ],
   "source": [
    "import numpy as np \n",
    "\n",
    "nameList = ['Angel',\"Shemi\",\"Marvel\",\"Linda\"] \n",
    "ageTuple = (41,32,21,19)\n",
    "gradeDict = {\"CSC102\": 89,\"MTH 102\": 77,\"CHM 102\":69, \"GST 102\":99 } \n",
    "\n",
    "arr_nameList = np.array(nameList) \n",
    "arr_ageTuple = np.array(ageTuple) \n",
    "arr_gradeDict = np.array(gradeDict) \n",
    "\n",
    "print(arr_nameList) \n",
    "print(arr_ageTuple) \n",
    "print(arr_gradeDict) "
   ]
  },
  {
   "cell_type": "code",
   "execution_count": 8,
   "metadata": {},
   "outputs": [
    {
     "name": "stdout",
     "output_type": "stream",
     "text": [
      "How many students are in the CSC 102 class? 5\n",
      "There are 5 students in CSC 102 class\n"
     ]
    }
   ],
   "source": [
    "import numpy as np \n",
    "\n",
    "classNum = int(input(\"How many students are in the CSC 102 class? \")) \n",
    "class_arr = np.array(classNum)\n",
    "\n",
    "if class_arr ==1: \n",
    "    print(\"There is only \", class_arr , \"student in CSC 102 class \")\n",
    "    \n",
    "else: \n",
    "    print(\"There are\", class_arr,\"students in CSC 102 class\")"
   ]
  },
  {
   "cell_type": "code",
   "execution_count": 9,
   "metadata": {},
   "outputs": [
    {
     "name": "stdout",
     "output_type": "stream",
     "text": [
      "[1 2 3 4 5]\n"
     ]
    }
   ],
   "source": [
    "#1-D arrays\n",
    "import numpy as np \n",
    "arr = np.array([1,2,3,4,5]) \n",
    "print(arr)"
   ]
  },
  {
   "cell_type": "code",
   "execution_count": 13,
   "metadata": {},
   "outputs": [
    {
     "name": "stdout",
     "output_type": "stream",
     "text": [
      "[[1 2 3]\n",
      " [4 5 6]]\n"
     ]
    }
   ],
   "source": [
    "#2-D arrays \n",
    "import numpy as np \n",
    "arr = np.array([[1,2,3],[4,5,6]]) \n",
    "print(arr)"
   ]
  },
  {
   "cell_type": "code",
   "execution_count": 14,
   "metadata": {},
   "outputs": [
    {
     "name": "stdout",
     "output_type": "stream",
     "text": [
      "[[[1 2 3]\n",
      "  [4 5 6]]\n",
      "\n",
      " [[1 2 3]\n",
      "  [4 5 6]]\n",
      "\n",
      " [[1 2 3]\n",
      "  [4 5 6]]]\n"
     ]
    }
   ],
   "source": [
    "#3-D arrays \n",
    "import numpy as np \n",
    "arr = np.array([[[1,2,3],[4,5,6]],[[1,2,3],[4,5,6]],[[1,2,3],[4,5,6]]])\n",
    "print(arr)"
   ]
  },
  {
   "cell_type": "code",
   "execution_count": 17,
   "metadata": {},
   "outputs": [
    {
     "name": "stdout",
     "output_type": "stream",
     "text": [
      "0\n",
      "3\n",
      "2\n",
      "1\n"
     ]
    }
   ],
   "source": [
    "#Check Number of dimensions\n",
    "import numpy as np \n",
    "\n",
    "a = np.array({42}) \n",
    "b = np.array([[[1,2,3],[4,5,6]],[[1,2,3],[4,5,6]],[[1,2,3],[4,5,6]]]) \n",
    "c = np.array([[1,2,3],[4,5,6]]) \n",
    "d = np.array([1,2,3,4,5]) \n",
    "\n",
    "print(a.ndim) \n",
    "print(b.ndim) \n",
    "print(c.ndim) \n",
    "print(d.ndim)"
   ]
  },
  {
   "cell_type": "code",
   "execution_count": 21,
   "metadata": {},
   "outputs": [
    {
     "name": "stdout",
     "output_type": "stream",
     "text": [
      "[[[[[[[[1 2 3 4]]]]]]]]\n",
      "Number of dimensions :  8\n"
     ]
    }
   ],
   "source": [
    "#Higher Dimensional arrays\n",
    "\n",
    "import numpy as np \n",
    "arr = np.array([1,2,3,4], ndmin = 8 )  \n",
    "\n",
    "print(arr) \n",
    "print('Number of dimensions : ', arr.ndim)\n",
    "\n"
   ]
  },
  {
   "cell_type": "code",
   "execution_count": 22,
   "metadata": {},
   "outputs": [
    {
     "name": "stdout",
     "output_type": "stream",
     "text": [
      "2\n"
     ]
    }
   ],
   "source": [
    "#Access array elements\n",
    "import numpy as np \n",
    "arr = np.array([1,2,3,4]) \n",
    "print(arr[1])"
   ]
  },
  {
   "cell_type": "code",
   "execution_count": 31,
   "metadata": {},
   "outputs": [
    {
     "name": "stdout",
     "output_type": "stream",
     "text": [
      "5th element on 2nd row:  11\n"
     ]
    }
   ],
   "source": [
    "#Access 2-D arrays\n",
    "import numpy as np \n",
    "arr = np.array([[0,1,2,3,4,5],[6,7,8,9,10,11]]) \n",
    "print('5th element on 2nd row: ',arr[1,5])"
   ]
  },
  {
   "cell_type": "code",
   "execution_count": 32,
   "metadata": {},
   "outputs": [
    {
     "name": "stdout",
     "output_type": "stream",
     "text": [
      "6\n"
     ]
    }
   ],
   "source": [
    "#Access 3-D arrays\n",
    "import numpy as np \n",
    "arr = np.array([[[1,2,3],[4,5,6]],[[7,8,9],[10,11,12]]]) \n",
    "print(arr[0,1,2])"
   ]
  },
  {
   "cell_type": "code",
   "execution_count": 42,
   "metadata": {},
   "outputs": [
    {
     "name": "stdout",
     "output_type": "stream",
     "text": [
      "Last element from 2nd dimension:  10\n"
     ]
    }
   ],
   "source": [
    "#Negative Indexing\n",
    "import numpy as np \n",
    "arr = np.array([[1,2,3,4,5], [6,7,8,9,10]]) \n",
    "print('Last element from 2nd dimension: ', arr[1,-1])\n"
   ]
  },
  {
   "cell_type": "code",
   "execution_count": 43,
   "metadata": {},
   "outputs": [
    {
     "name": "stdout",
     "output_type": "stream",
     "text": [
      "[2 3 4 5]\n"
     ]
    }
   ],
   "source": [
    "\n",
    "# Slice elements from index 1 to index 5 from the following array:\n",
    "\n",
    "import numpy as np\n",
    "\n",
    "arr = np.array([1, 2, 3, 4, 5, 6, 7])\n",
    "\n",
    "print(arr[1:5])\n"
   ]
  },
  {
   "cell_type": "code",
   "execution_count": null,
   "metadata": {},
   "outputs": [],
   "source": []
  }
 ],
 "metadata": {
  "kernelspec": {
   "display_name": "Python 3",
   "language": "python",
   "name": "python3"
  },
  "language_info": {
   "codemirror_mode": {
    "name": "ipython",
    "version": 3
   },
   "file_extension": ".py",
   "mimetype": "text/x-python",
   "name": "python",
   "nbconvert_exporter": "python",
   "pygments_lexer": "ipython3",
   "version": "3.7.4"
  }
 },
 "nbformat": 4,
 "nbformat_minor": 2
}
